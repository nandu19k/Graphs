{
  "nbformat": 4,
  "nbformat_minor": 0,
  "metadata": {
    "colab": {
      "name": "Graph.ipynb",
      "provenance": []
    },
    "kernelspec": {
      "name": "python3",
      "display_name": "Python 3"
    }
  },
  "cells": [
    {
      "cell_type": "code",
      "metadata": {
        "id": "46sE5gNh2sOI"
      },
      "source": [
        "from collections import defaultdict"
      ],
      "execution_count": 1,
      "outputs": []
    },
    {
      "cell_type": "code",
      "metadata": {
        "id": "I_xvHD3W20b4"
      },
      "source": [
        "class Graph:\n",
        "  def __init__(self):\n",
        "    self.graph = defaultdict(list)\n",
        "  \n",
        "  def setEdge(self , v1, v2):\n",
        "    self.graph[v1].append(v2)\n",
        "\n",
        "  def printGraph(self):\n",
        "    for node in self.graph:\n",
        "      for v in self.graph[node]:\n",
        "        print(node , '--->' , v)\n",
        "\n",
        "  def DFS(self , startNode):\n",
        "    visited = set()\n",
        "    st = []\n",
        "    st.append(startNode)\n",
        "\n",
        "    while len(st):\n",
        "      curr = st[-1]\n",
        "      st.pop()\n",
        "\n",
        "      if curr not in visited:\n",
        "        visited.add(curr)\n",
        "        print(curr , end = ' ')\n",
        "\n",
        "      for vertex in self.graph[curr]:\n",
        "        if vertex not in visited:\n",
        "          st.append(vertex)\n",
        "\n",
        "  def BFS(self , startNode):\n",
        "    visited = set()\n",
        "    queue = []\n",
        "    queue.append(startNode)\n",
        "    visited.add(startNode)\n",
        "\n",
        "    while queue:\n",
        "      curr = queue.pop(0)\n",
        "      print(curr , end= ' ')\n",
        "\n",
        "      for vertex in self.graph[curr]:\n",
        "        if vertex not in visited:\n",
        "          queue.append(vertex)\n",
        "          visited.add(vertex)"
      ],
      "execution_count": 2,
      "outputs": []
    },
    {
      "cell_type": "code",
      "metadata": {
        "id": "fzgVHMyf5D-J",
        "outputId": "60c38832-b91f-4235-a6f0-363605059a92",
        "colab": {
          "base_uri": "https://localhost:8080/"
        }
      },
      "source": [
        "g = Graph()\n",
        "g.setEdge(2, 1)\n",
        "g.setEdge(2, 5)\n",
        "g.setEdge(5, 6)\n",
        "g.setEdge(5, 8)\n",
        "g.setEdge(6, 9)\n",
        "\n",
        "g.BFS(2)"
      ],
      "execution_count": 3,
      "outputs": [
        {
          "output_type": "stream",
          "text": [
            "2 1 5 6 8 9 "
          ],
          "name": "stdout"
        }
      ]
    },
    {
      "cell_type": "code",
      "metadata": {
        "id": "zsfZyjxV8vOC",
        "outputId": "fcf53c2e-be1e-4ff6-8b34-97979c8b5e74",
        "colab": {
          "base_uri": "https://localhost:8080/"
        }
      },
      "source": [
        "g.DFS(2)"
      ],
      "execution_count": 4,
      "outputs": [
        {
          "output_type": "stream",
          "text": [
            "2 5 8 6 9 1 "
          ],
          "name": "stdout"
        }
      ]
    }
  ]
}